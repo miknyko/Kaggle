{
 "cells": [
  {
   "cell_type": "code",
   "execution_count": 163,
   "metadata": {},
   "outputs": [],
   "source": [
    "import numpy as np\n",
    "import matplotlib.pyplot as plt\n",
    "import pandas as pd\n",
    "import seaborn as sns\n",
    "%matplotlib inline\n",
    "\n",
    "sns.set_style('whitegrid')"
   ]
  },
  {
   "cell_type": "code",
   "execution_count": 284,
   "metadata": {},
   "outputs": [],
   "source": [
    "train = pd.read_csv('train.csv')\n",
    "test = pd.read_csv('test.csv')"
   ]
  },
  {
   "cell_type": "code",
   "execution_count": 165,
   "metadata": {},
   "outputs": [
    {
     "data": {
      "text/html": [
       "<div>\n",
       "<style scoped>\n",
       "    .dataframe tbody tr th:only-of-type {\n",
       "        vertical-align: middle;\n",
       "    }\n",
       "\n",
       "    .dataframe tbody tr th {\n",
       "        vertical-align: top;\n",
       "    }\n",
       "\n",
       "    .dataframe thead th {\n",
       "        text-align: right;\n",
       "    }\n",
       "</style>\n",
       "<table border=\"1\" class=\"dataframe\">\n",
       "  <thead>\n",
       "    <tr style=\"text-align: right;\">\n",
       "      <th></th>\n",
       "      <th>label</th>\n",
       "      <th>pixel0</th>\n",
       "      <th>pixel1</th>\n",
       "      <th>pixel2</th>\n",
       "      <th>pixel3</th>\n",
       "      <th>pixel4</th>\n",
       "      <th>pixel5</th>\n",
       "      <th>pixel6</th>\n",
       "      <th>pixel7</th>\n",
       "      <th>pixel8</th>\n",
       "      <th>...</th>\n",
       "      <th>pixel774</th>\n",
       "      <th>pixel775</th>\n",
       "      <th>pixel776</th>\n",
       "      <th>pixel777</th>\n",
       "      <th>pixel778</th>\n",
       "      <th>pixel779</th>\n",
       "      <th>pixel780</th>\n",
       "      <th>pixel781</th>\n",
       "      <th>pixel782</th>\n",
       "      <th>pixel783</th>\n",
       "    </tr>\n",
       "  </thead>\n",
       "  <tbody>\n",
       "    <tr>\n",
       "      <th>0</th>\n",
       "      <td>1</td>\n",
       "      <td>0</td>\n",
       "      <td>0</td>\n",
       "      <td>0</td>\n",
       "      <td>0</td>\n",
       "      <td>0</td>\n",
       "      <td>0</td>\n",
       "      <td>0</td>\n",
       "      <td>0</td>\n",
       "      <td>0</td>\n",
       "      <td>...</td>\n",
       "      <td>0</td>\n",
       "      <td>0</td>\n",
       "      <td>0</td>\n",
       "      <td>0</td>\n",
       "      <td>0</td>\n",
       "      <td>0</td>\n",
       "      <td>0</td>\n",
       "      <td>0</td>\n",
       "      <td>0</td>\n",
       "      <td>0</td>\n",
       "    </tr>\n",
       "    <tr>\n",
       "      <th>1</th>\n",
       "      <td>0</td>\n",
       "      <td>0</td>\n",
       "      <td>0</td>\n",
       "      <td>0</td>\n",
       "      <td>0</td>\n",
       "      <td>0</td>\n",
       "      <td>0</td>\n",
       "      <td>0</td>\n",
       "      <td>0</td>\n",
       "      <td>0</td>\n",
       "      <td>...</td>\n",
       "      <td>0</td>\n",
       "      <td>0</td>\n",
       "      <td>0</td>\n",
       "      <td>0</td>\n",
       "      <td>0</td>\n",
       "      <td>0</td>\n",
       "      <td>0</td>\n",
       "      <td>0</td>\n",
       "      <td>0</td>\n",
       "      <td>0</td>\n",
       "    </tr>\n",
       "    <tr>\n",
       "      <th>2</th>\n",
       "      <td>1</td>\n",
       "      <td>0</td>\n",
       "      <td>0</td>\n",
       "      <td>0</td>\n",
       "      <td>0</td>\n",
       "      <td>0</td>\n",
       "      <td>0</td>\n",
       "      <td>0</td>\n",
       "      <td>0</td>\n",
       "      <td>0</td>\n",
       "      <td>...</td>\n",
       "      <td>0</td>\n",
       "      <td>0</td>\n",
       "      <td>0</td>\n",
       "      <td>0</td>\n",
       "      <td>0</td>\n",
       "      <td>0</td>\n",
       "      <td>0</td>\n",
       "      <td>0</td>\n",
       "      <td>0</td>\n",
       "      <td>0</td>\n",
       "    </tr>\n",
       "    <tr>\n",
       "      <th>3</th>\n",
       "      <td>4</td>\n",
       "      <td>0</td>\n",
       "      <td>0</td>\n",
       "      <td>0</td>\n",
       "      <td>0</td>\n",
       "      <td>0</td>\n",
       "      <td>0</td>\n",
       "      <td>0</td>\n",
       "      <td>0</td>\n",
       "      <td>0</td>\n",
       "      <td>...</td>\n",
       "      <td>0</td>\n",
       "      <td>0</td>\n",
       "      <td>0</td>\n",
       "      <td>0</td>\n",
       "      <td>0</td>\n",
       "      <td>0</td>\n",
       "      <td>0</td>\n",
       "      <td>0</td>\n",
       "      <td>0</td>\n",
       "      <td>0</td>\n",
       "    </tr>\n",
       "    <tr>\n",
       "      <th>4</th>\n",
       "      <td>0</td>\n",
       "      <td>0</td>\n",
       "      <td>0</td>\n",
       "      <td>0</td>\n",
       "      <td>0</td>\n",
       "      <td>0</td>\n",
       "      <td>0</td>\n",
       "      <td>0</td>\n",
       "      <td>0</td>\n",
       "      <td>0</td>\n",
       "      <td>...</td>\n",
       "      <td>0</td>\n",
       "      <td>0</td>\n",
       "      <td>0</td>\n",
       "      <td>0</td>\n",
       "      <td>0</td>\n",
       "      <td>0</td>\n",
       "      <td>0</td>\n",
       "      <td>0</td>\n",
       "      <td>0</td>\n",
       "      <td>0</td>\n",
       "    </tr>\n",
       "  </tbody>\n",
       "</table>\n",
       "<p>5 rows × 785 columns</p>\n",
       "</div>"
      ],
      "text/plain": [
       "   label  pixel0  pixel1  pixel2  pixel3  pixel4  pixel5  pixel6  pixel7  \\\n",
       "0      1       0       0       0       0       0       0       0       0   \n",
       "1      0       0       0       0       0       0       0       0       0   \n",
       "2      1       0       0       0       0       0       0       0       0   \n",
       "3      4       0       0       0       0       0       0       0       0   \n",
       "4      0       0       0       0       0       0       0       0       0   \n",
       "\n",
       "   pixel8  ...  pixel774  pixel775  pixel776  pixel777  pixel778  pixel779  \\\n",
       "0       0  ...         0         0         0         0         0         0   \n",
       "1       0  ...         0         0         0         0         0         0   \n",
       "2       0  ...         0         0         0         0         0         0   \n",
       "3       0  ...         0         0         0         0         0         0   \n",
       "4       0  ...         0         0         0         0         0         0   \n",
       "\n",
       "   pixel780  pixel781  pixel782  pixel783  \n",
       "0         0         0         0         0  \n",
       "1         0         0         0         0  \n",
       "2         0         0         0         0  \n",
       "3         0         0         0         0  \n",
       "4         0         0         0         0  \n",
       "\n",
       "[5 rows x 785 columns]"
      ]
     },
     "execution_count": 165,
     "metadata": {},
     "output_type": "execute_result"
    }
   ],
   "source": [
    "train.head()"
   ]
  },
  {
   "cell_type": "code",
   "execution_count": 166,
   "metadata": {},
   "outputs": [
    {
     "data": {
      "text/plain": [
       "<matplotlib.axes._subplots.AxesSubplot at 0x22100a81438>"
      ]
     },
     "execution_count": 166,
     "metadata": {},
     "output_type": "execute_result"
    },
    {
     "data": {
      "image/png": "[encoded data removed]",
      "text/plain": [
       "<Figure size 432x288 with 1 Axes>"
      ]
     },
     "metadata": {},
     "output_type": "display_data"
    }
   ],
   "source": [
    "#可以看出各种类别的数量大致差不多\n",
    "sns.countplot(train['label'])"
   ]
  },
  {
   "cell_type": "code",
   "execution_count": 167,
   "metadata": {},
   "outputs": [],
   "source": [
    "#使用pytorch进行预测,导入各种库\n",
    "import torch\n",
    "import torch.nn as nn\n",
    "from torch.autograd import Variable\n",
    "import torchvision.datasets as dset\n",
    "import torchvision.transforms as transforms\n",
    "import torch.nn.functional as F\n",
    "import torch.optim as optim\n",
    "\n",
    "from torch.optim import lr_scheduler\n",
    "from torch.utils.data import DataLoader, Dataset"
   ]
  },
  {
   "cell_type": "code",
   "execution_count": 168,
   "metadata": {},
   "outputs": [],
   "source": [
    "#首先设置模型是否使用cuda加速\n",
    "use_cuda = torch.cuda.is_available()"
   ]
  },
  {
   "cell_type": "markdown",
   "metadata": {},
   "source": [
    "加载图像后，我们经常需要对图片进行剪裁，随机旋转等操作，这些操作可以使用`torchivision.transform`实现。首先我们使用`transforms.Compose()`，来构造一个对图片进行预处理的操作序列，因为这个数据集来自于Kaggle,已经是一维向量数据，我们先将其转换为PIL图像，再使用`ToTensor`将图像转换为张量数据，在这过程中灰阶范围会自动从0-255变为0-1，然后使用`Normalize`将数据进行均值为0.5，标准差为1的标准化。这里需要注意，虽然MNIST中图像都是灰度图像，通道数均为1，但是仍要传入tuple。"
   ]
  },
  {
   "cell_type": "code",
   "execution_count": 169,
   "metadata": {},
   "outputs": [],
   "source": [
    "#这里我们需要重新构建dataset，以符合pytorch的加载标准\n",
    "trans = transforms.Compose([transforms.ToPILImage(),\n",
    "                            transforms.ToTensor(),\n",
    "                            transforms.Normalize((0.5,),(0.5,))])\n",
    "\n",
    "n_pixels = 784\n",
    "\n",
    "class MNIST_data(Dataset):\n",
    "    \"\"\"MINST DATA SET\"\"\"\n",
    "    \n",
    "    def __init__(self,file_path,transform = transforms.Compose([transforms.ToPILImage(),\n",
    "                            transforms.ToTensor(),\n",
    "                            transforms.Normalize((0.5,),(0.5,))])):\n",
    "        df = pd.read_csv(file_path)\n",
    "        \n",
    "        if len(df.columns) == n_pixels:\n",
    "            #检查读入的数据集列数量，如果等于图片像素数量28*28，说明是test集\n",
    "            self.X = df.values.reshape((-1,28,28)).astype(np.uint8)[:,:,:,None]\n",
    "            self.y = None\n",
    "        else:\n",
    "            #检查读入的数据集列数量，如果不等于图片像素数量28*28，说明是train集\n",
    "            self.X = df.iloc[:,1:].values.reshape((-1,28,28)).astype(np.uint8)[:,:,:,None]\n",
    "            self.y = torch.from_numpy(df.iloc[:,0].values)\n",
    "            #将array转换为tensor\n",
    "            \n",
    "        self.transform = transform\n",
    "        \n",
    "    def __len__(self):\n",
    "        return len(self.X)\n",
    "    \n",
    "    def __getitem__(self, idx):\n",
    "        if self.y is not None:\n",
    "            return self.transform(self.X[idx]), self.y[idx]\n",
    "        else:\n",
    "            return self.transform(self.X[idx])\n",
    "    "
   ]
  },
  {
   "cell_type": "code",
   "execution_count": 316,
   "metadata": {},
   "outputs": [],
   "source": [
    "# #由于数据来源于Kaggle，所以这里我们使用sklearn中的分割器将train数据分离为两部分\n",
    "\n",
    "# from sklearn.model_selection import train_test_split\n",
    "# X_train,X_test,y_train,y_test = train_test_split(train.drop('label',axis = 1),\n",
    "#                                                  train['label'],\n",
    "#                                                  test_size = 0.2,\n",
    "#                                                 random_state = 0)\n",
    "batch_size = 100\n",
    "\n",
    "#这里加载数据集\n",
    "#将训练集可以随机旋转一下，测试集不做调整，只是标准化\n",
    "\n",
    "train_dataset = MNIST_data('train.csv', \n",
    "                           transform = transforms.Compose(\n",
    "                            [transforms.ToPILImage(),\n",
    "                             transforms.RandomRotation(20),\n",
    "                             transforms.ToTensor(),\n",
    "                             transforms.Normalize(mean=(0.5,), std=(0.5,))]))\n",
    "\n",
    "test_dataset = MNIST_data('test.csv')\n",
    "\n",
    "#Pytorch中使用loader来向网络提供数据，这里搭建两个数据加载器\n",
    "\n",
    "train_loader = torch.utils.data.DataLoader(\n",
    "                  dataset = train_dataset,\n",
    "                  batch_size = batch_size,\n",
    "                  shuffle = True)\n",
    "\n",
    "test_loader = torch.utils.data.DataLoader(\n",
    "                  dataset = test_dataset,\n",
    "                  batch_size = batch_size,\n",
    "                  shuffle = True)\n",
    "\n"
   ]
  },
  {
   "cell_type": "code",
   "execution_count": 171,
   "metadata": {},
   "outputs": [
    {
     "name": "stdout",
     "output_type": "stream",
     "text": [
      "Total Training Batch Number is 420\n",
      "Total Test Batch Number is 280\n"
     ]
    }
   ],
   "source": [
    "print(f'Total Training Batch Number is {len(train_loader)}')\n",
    "print(f'Total Test Batch Number is {len(test_loader)}')"
   ]
  },
  {
   "cell_type": "markdown",
   "metadata": {},
   "source": [
    "现在进行网络构建，构建两个网络,分别使用两个网络预测，最后对比效率：\n",
    " - 简单的MLPNet(Multiple Layer Perceptron多层感知机)\n",
    " - 传统的LeNet5网络"
   ]
  },
  {
   "cell_type": "code",
   "execution_count": 195,
   "metadata": {},
   "outputs": [],
   "source": [
    "#在进行网络构建时，\n",
    "#主要通过torch.nn包中的已经实现好的卷积层、池化层等进行搭建。例如下面的代码展示了一个具有两个全连接\n",
    "#隐藏层的MLP网络\n",
    "\n",
    "class MLPNet(nn.Module):\n",
    "    def __init__(self):\n",
    "        super(MLPNet,self).__init__()\n",
    "        self.fc1 = nn.Linear(28*28,500)\n",
    "        self.fc2 = nn.Linear(500,256)\n",
    "        self.fc3 = nn.Linear(256,10)\n",
    "    \n",
    "    def forward(self,x):\n",
    "        x = x.view(-1,28*28)\n",
    "        x = F.relu(self.fc1(x))\n",
    "        x = F.relu(self.fc2(x))\n",
    "        x = self.fc3(x)\n",
    "        return x\n",
    "    \n",
    "    def name(self):\n",
    "        return 'MLP'\n",
    "    \n",
    "#这里再构建一个LeNet5网络，LeNet5网络是经典的识别手写库的网络,\n",
    "#LeNet5 这个网络虽然很小，但是它包含了深度学习的基本模块：卷积层，池化层，全链接层。是其他深度学习模型的基础\n",
    "\n",
    "class LeNet(nn.Module):\n",
    "    def __init__(self):\n",
    "        super(LeNet, self).__init__()\n",
    "        self.conv1 = nn.Conv2d(1, 20, 5, 1)\n",
    "        self.conv2 = nn.Conv2d(20, 50, 5, 1)\n",
    "        self.fc1 = nn.Linear(4*4*50, 500)\n",
    "        self.fc2 = nn.Linear(500, 10)\n",
    "\n",
    "    def forward(self, x):\n",
    "        x = F.relu(self.conv1(x))\n",
    "        x = F.max_pool2d(x, 2, 2)\n",
    "        x = F.relu(self.conv2(x))\n",
    "        x = F.max_pool2d(x, 2, 2)\n",
    "        x = x.view(-1, 4*4*50)\n",
    "        x = F.relu(self.fc1(x))\n",
    "        x = self.fc2(x)\n",
    "        return x\n",
    "    \n",
    "    def name(self):\n",
    "        return 'LeNet'\n",
    "    \n",
    "    "
   ]
  },
  {
   "cell_type": "code",
   "execution_count": 308,
   "metadata": {},
   "outputs": [],
   "source": [
    "#先实例一个MLP网络\n",
    "model1 = MLPNet()\n",
    "#定义优化器，使用随机梯度下降，学习速率0.1，动量设置为0.9\n",
    "optimizer = optim.SGD(model.parameters(),lr=0.01,momentum=0.9)\n",
    "\n",
    "#定义惩罚函数，使用交叉熵\n",
    "criterion = nn.CrossEntropyLoss()\n",
    "\n",
    "if use_cuda:\n",
    "    model1 = model.cuda()\n",
    "\n",
    "#定义训练函数\n",
    "def train(model,epoch,train_loader,\n",
    "          criterion = criterion,optimizer = optimizer):\n",
    "    for e in range(epoch):\n",
    "        for batch_idx,(inputs,labels) in enumerate(train_loader):\n",
    "            inputs, labels = Variable(inputs), Variable(labels)\n",
    "            if use_cuda:\n",
    "                inputs = inputs.cuda()\n",
    "                labels = labels.cuda()\n",
    "\n",
    "            optimizer.zero_grad() #梯度清零\n",
    "            \n",
    "            outputs = model(inputs)#正向传播\n",
    "            \n",
    "            loss = criterion(outputs,labels)#求得误差\n",
    "\n",
    "            loss.backward()#反向传播\n",
    "            optimizer.step()#参数优化\n",
    "\n",
    "            if (batch_idx + 1)%100 == 0:   #每一百个batch打印一次结果\n",
    "                print('Traing Epoch : {} [{}/{} ({:.0f}%)]\\tLoss:{:.6f}'.format(\n",
    "                    e + 1,\n",
    "                    (batch_idx + 1) * len(inputs),\n",
    "                    len(train_loader.dataset),\n",
    "                    100 * (batch_idx + 1) / len(train_loader),\n",
    "                    loss.data.item()))\n",
    "            \n",
    "            \n"
   ]
  },
  {
   "cell_type": "code",
   "execution_count": 279,
   "metadata": {},
   "outputs": [],
   "source": [
    "#定义测试函数\n",
    "\n",
    "def evaluate(model,data_loader):\n",
    "    correct = 0\n",
    "    total = 0 \n",
    "    loss = 0\n",
    "    with torch.no_grad():# 使用验证集时关闭梯度计算\n",
    "        for inputs,labels in data_loader:\n",
    "            if use_cuda :\n",
    "                inputs = inputs.cuda()\n",
    "                labels = labels.cuda()\n",
    "                model.cuda()\n",
    "            \n",
    "            outputs = model(inputs)\n",
    "            predicted = torch.max(outputs.data,1)[1]\n",
    "            # torch.max返回输出结果中，按dim=1行排列的每一行最大数据及他的索引，丢弃数据，保留索引\n",
    "            loss += F.cross_entropy(outputs, target, reduction = 'sum').data.item()\n",
    "            #每此批处理记录交叉熵\n",
    "           \n",
    "           \n",
    "            correct += (predicted == labels).sum().item()\n",
    "            \n",
    "           #将预测及标签两相同大小张量逐一比较各相同元素的个数\n",
    "    \n",
    "        print('The Accuracy is {}/{} ({:.4f}%),The Average Loss is {:.3f}'.format(\n",
    "            correct,\n",
    "            len(data_loader.dataset),\n",
    "            100 * correct/len(data_loader.dataset),\n",
    "            loss/len(data_loader.dataset)\n",
    "            ))\n",
    "                "
   ]
  },
  {
   "cell_type": "code",
   "execution_count": 265,
   "metadata": {},
   "outputs": [],
   "source": [
    "#定义预测函数\n",
    "\n",
    "def predict(model,dataloader):\n",
    "    test_pred = torch.LongTensor()#建造一个列表来存储每一批的预测结果\n",
    "    with torch.no_grad():\n",
    "        for inputs in dataloader:\n",
    "            if use_cuda:\n",
    "                inputs = inputs.cuda()\n",
    "                test_pred.cuda()\n",
    "            outputs = model(inputs)\n",
    "            predicted = torch.max(outputs.cpu().data,1)[1]\n",
    "            \n",
    "            test_pred = torch.cat((test_pred,predicted),dim = 0)\n",
    "            #每一批的预测结果加到列表后方，同一行\n",
    "            \n",
    "    return test_pred\n",
    "    \n",
    "            \n",
    "            "
   ]
  },
  {
   "cell_type": "code",
   "execution_count": 281,
   "metadata": {},
   "outputs": [
    {
     "name": "stdout",
     "output_type": "stream",
     "text": [
      "Traing Epoch : 1 [10000/42000 (24%)]\tLoss:0.016520\n",
      "Traing Epoch : 1 [20000/42000 (48%)]\tLoss:0.019866\n",
      "Traing Epoch : 1 [30000/42000 (71%)]\tLoss:0.018730\n",
      "Traing Epoch : 1 [40000/42000 (95%)]\tLoss:0.024125\n",
      "The Accuracy is 41783/42000 (99.4833%),The Average Loss is 17.379\n"
     ]
    }
   ],
   "source": [
    "#进行1号模型MLP网络的测试和训练\n",
    "\n",
    "train(model1,epoch = 1)\n",
    "evaluate(model1,train_loader)\n",
    "    "
   ]
  },
  {
   "cell_type": "code",
   "execution_count": 266,
   "metadata": {},
   "outputs": [],
   "source": [
    "test_predict = predict(model1,test_loader)"
   ]
  },
  {
   "cell_type": "code",
   "execution_count": 269,
   "metadata": {},
   "outputs": [
    {
     "data": {
      "text/plain": [
       "torch.Size([28000])"
      ]
     },
     "execution_count": 269,
     "metadata": {},
     "output_type": "execute_result"
    }
   ],
   "source": [
    "test_predict.shape"
   ]
  },
  {
   "cell_type": "code",
   "execution_count": 273,
   "metadata": {},
   "outputs": [],
   "source": [
    "submission_MLP = pd.DataFrame({\n",
    "    'ImageId':np.arange(1,len(test_loader.dataset)+1),\n",
    "    'Label':test_predict\n",
    "})\n",
    "\n",
    "submission_MLP.to_csv('submission_MLP.csv',index = False)"
   ]
  },
  {
   "cell_type": "markdown",
   "metadata": {},
   "source": [
    "# 现在使用LeNet试试"
   ]
  },
  {
   "cell_type": "code",
   "execution_count": 314,
   "metadata": {},
   "outputs": [],
   "source": [
    "#现在使用LeNet\n",
    "model2 = LeNet()\n",
    "optimizer = optim.SGD(model.parameters(),lr=0.01,momentum=0.9)\n",
    "criterion = nn.CrossEntropyLoss()\n",
    "if use_cuda:\n",
    "    model2 = model.cuda()"
   ]
  },
  {
   "cell_type": "code",
   "execution_count": 318,
   "metadata": {},
   "outputs": [
    {
     "name": "stdout",
     "output_type": "stream",
     "text": [
      "Traing Epoch : 1 [10000/42000 (24%)]\tLoss:0.014518\n",
      "Traing Epoch : 1 [20000/42000 (48%)]\tLoss:0.061000\n",
      "Traing Epoch : 1 [30000/42000 (71%)]\tLoss:0.028702\n",
      "Traing Epoch : 1 [40000/42000 (95%)]\tLoss:0.029659\n",
      "The Accuracy is 41798/42000 (99.5190%),The Average Loss is 18.371\n"
     ]
    }
   ],
   "source": [
    "train(model2,1,train_loader)\n",
    "evaluate(model2,train_loader)"
   ]
  },
  {
   "cell_type": "code",
   "execution_count": 280,
   "metadata": {},
   "outputs": [],
   "source": [
    "test_predict = predict(model2,test_loader)\n",
    "submission_LeNet = pd.DataFrame({\n",
    "    'ImageId':np.arange(1,len(test_loader.dataset)+1),\n",
    "    'Label':test_predict\n",
    "})\n",
    "\n",
    "submission_LeNet.to_csv('submission_LeNet.csv',index = False)"
   ]
  },
  {
   "cell_type": "markdown",
   "metadata": {},
   "source": [
    "两个网络在训练集上都表现非常好，达到了99%的准确率，但是在测试集上表现非常不好。所以设计CV,看看问题出在什么地方"
   ]
  },
  {
   "cell_type": "code",
   "execution_count": 285,
   "metadata": {},
   "outputs": [],
   "source": [
    "#使用SKLEARN留出法分割原训练集\n",
    "from sklearn.model_selection import train_test_split\n",
    "\n",
    "X_train,X_test,y_train,y_test = train_test_split(train.drop('label',axis = 1),\n",
    "                                                 train['label'],\n",
    "                                                 test_size = 0.2,\n",
    "                                                random_state = 0)"
   ]
  },
  {
   "cell_type": "code",
   "execution_count": 300,
   "metadata": {},
   "outputs": [
    {
     "data": {
      "text/plain": [
       "<matplotlib.axes._subplots.AxesSubplot at 0x22102f880f0>"
      ]
     },
     "execution_count": 300,
     "metadata": {},
     "output_type": "execute_result"
    },
    {
     "data": {
      "image/png": "[encoded data removed]",
      "text/plain": [
       "<Figure size 432x288 with 1 Axes>"
      ]
     },
     "metadata": {},
     "output_type": "display_data"
    }
   ],
   "source": [
    "sns.countplot(y_train)\n",
    "#可以看出是分层分割的"
   ]
  },
  {
   "cell_type": "code",
   "execution_count": 302,
   "metadata": {},
   "outputs": [],
   "source": [
    "#转化为CSV文件，方便pytorch加载器读取\n",
    "train_cv = pd.concat((y_train,X_train),axis = 1)\n",
    "test_cv = pd.concat((y_test,X_test),axis = 1)\n",
    "\n",
    "train_cv.to_csv('train_cv.csv',index = False)\n",
    "test_cv.to_csv('test_cv.csv',index = False)"
   ]
  },
  {
   "cell_type": "code",
   "execution_count": 304,
   "metadata": {},
   "outputs": [],
   "source": [
    "train_dataset_cv = MNIST_data('train_cv.csv', \n",
    "                           transform = transforms.Compose(\n",
    "                            [transforms.ToPILImage(),\n",
    "                             transforms.RandomRotation(20),\n",
    "                             transforms.ToTensor(),\n",
    "                             transforms.Normalize(mean=(0.5,), std=(0.5,))]))\n",
    "\n",
    "test_dataset_cv = MNIST_data('test_cv.csv')"
   ]
  },
  {
   "cell_type": "code",
   "execution_count": 305,
   "metadata": {},
   "outputs": [],
   "source": [
    "train_cv_loader = torch.utils.data.DataLoader(\n",
    "                  dataset = train_dataset_cv,\n",
    "                  batch_size = batch_size,\n",
    "                  shuffle = True)\n",
    "\n",
    "test_cv_loader = torch.utils.data.DataLoader(\n",
    "                  dataset = test_dataset_cv,\n",
    "                  batch_size = batch_size,\n",
    "                  shuffle = True)"
   ]
  },
  {
   "cell_type": "code",
   "execution_count": 307,
   "metadata": {},
   "outputs": [],
   "source": [
    "mlp_cv = MLPNet()\n",
    "optimizer = optim.SGD(model.parameters(),lr=0.01,momentum=0.9)\n",
    "criterion = nn.CrossEntropyLoss()\n",
    "if use_cuda:\n",
    "    mlp_cv = model.cuda()"
   ]
  },
  {
   "cell_type": "code",
   "execution_count": 311,
   "metadata": {},
   "outputs": [
    {
     "name": "stdout",
     "output_type": "stream",
     "text": [
      "Traing Epoch : 1 [10000/33600 (30%)]\tLoss:0.004718\n",
      "Traing Epoch : 1 [20000/33600 (60%)]\tLoss:0.012898\n",
      "Traing Epoch : 1 [30000/33600 (89%)]\tLoss:0.001700\n",
      "The Accuracy is 8377/8400 (99.7262%),The Average Loss is 18.586\n"
     ]
    }
   ],
   "source": [
    "train(mlp_cv,1,train_cv_loader)\n",
    "evaluate(mlp_cv,test_cv_loader)"
   ]
  },
  {
   "cell_type": "markdown",
   "metadata": {},
   "source": [
    "# 真特么奇了怪了，CV准确率都那么高，为啥测试集那么低？编号出问题了吧"
   ]
  },
  {
   "cell_type": "markdown",
   "metadata": {},
   "source": [
    "# 发现问题，是因为之前的testloader中shuffle开了，顺序打乱了，最终当然编号就出问题了，关闭shuffle，重新使用LeNet预测一次"
   ]
  },
  {
   "cell_type": "code",
   "execution_count": 319,
   "metadata": {},
   "outputs": [],
   "source": [
    "test_loader = torch.utils.data.DataLoader(\n",
    "                  dataset = test_dataset,\n",
    "                  batch_size = batch_size,\n",
    "                  shuffle = False)"
   ]
  },
  {
   "cell_type": "code",
   "execution_count": 320,
   "metadata": {},
   "outputs": [],
   "source": [
    "test_predict = predict(model2,test_loader)\n",
    "submission_LeNet = pd.DataFrame({\n",
    "    'ImageId':np.arange(1,len(test_loader.dataset)+1),\n",
    "    'Label':test_predict\n",
    "})\n",
    "\n",
    "submission_LeNet.to_csv('submission_LeNet.csv',index = False)"
   ]
  },
  {
   "cell_type": "code",
   "execution_count": 322,
   "metadata": {},
   "outputs": [],
   "source": [
    "# 终于在测试集上达到了99.2%的准确率"
   ]
  },
  {
   "cell_type": "code",
   "execution_count": null,
   "metadata": {},
   "outputs": [],
   "source": []
  }
 ],
 "metadata": {
  "kernelspec": {
   "display_name": "Python 3",
   "language": "python",
   "name": "python3"
  },
  "language_info": {
   "codemirror_mode": {
    "name": "ipython",
    "version": 3
   },
   "file_extension": ".py",
   "mimetype": "text/x-python",
   "name": "python",
   "nbconvert_exporter": "python",
   "pygments_lexer": "ipython3",
   "version": "3.7.3"
  }
 },
 "nbformat": 4,
 "nbformat_minor": 2
}
